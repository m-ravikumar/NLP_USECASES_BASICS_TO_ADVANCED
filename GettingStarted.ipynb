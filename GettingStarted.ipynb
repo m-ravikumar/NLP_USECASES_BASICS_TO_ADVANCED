{
  "nbformat": 4,
  "nbformat_minor": 0,
  "metadata": {
    "colab": {
      "name": "GettingStarted.ipynb",
      "provenance": [],
      "collapsed_sections": [],
      "toc_visible": true,
      "authorship_tag": "ABX9TyO/zx9Iv9e/2x/y7su/Q3zf"
    },
    "kernelspec": {
      "name": "python3",
      "display_name": "Python 3"
    }
  },
  "cells": [
    {
      "cell_type": "code",
      "metadata": {
        "id": "m7JzuPzVI4gu",
        "colab_type": "code",
        "colab": {}
      },
      "source": [
        "#Import necessary libraries\n",
        "import nltk"
      ],
      "execution_count": 0,
      "outputs": []
    },
    {
      "cell_type": "code",
      "metadata": {
        "id": "MjETXQTKoj1H",
        "colab_type": "code",
        "colab": {
          "base_uri": "https://localhost:8080/",
          "height": 67
        },
        "outputId": "eed795c3-44f3-4855-a969-285d18b9617a"
      },
      "source": [
        "#Check and download if any import issues\n",
        "# nltk.download('punkt')\n",
        "# nltk.download('stopwords')\n",
        "# nltk.download('wordnet')"
      ],
      "execution_count": 22,
      "outputs": [
        {
          "output_type": "stream",
          "text": [
            "[nltk_data] Downloading package wordnet to /root/nltk_data...\n",
            "[nltk_data]   Unzipping corpora/wordnet.zip.\n"
          ],
          "name": "stdout"
        },
        {
          "output_type": "execute_result",
          "data": {
            "text/plain": [
              "True"
            ]
          },
          "metadata": {
            "tags": []
          },
          "execution_count": 22
        }
      ]
    },
    {
      "cell_type": "code",
      "metadata": {
        "id": "T_GVHGesJCwa",
        "colab_type": "code",
        "colab": {
          "base_uri": "https://localhost:8080/",
          "height": 34
        },
        "outputId": "ee7739aa-bc35-4b3b-cb57-770c654ab482"
      },
      "source": [
        "text=\"Hello god! Please Help me to get this Job done. also with good learning!!\"\n",
        "from nltk.tokenize import word_tokenize, sent_tokenize\n",
        "sents=sent_tokenize(text)\n",
        "print(sents)"
      ],
      "execution_count": 12,
      "outputs": [
        {
          "output_type": "stream",
          "text": [
            "['Hello god!', 'Please Help me to get this Job done.', 'also with good learning!', '!']\n"
          ],
          "name": "stdout"
        }
      ]
    },
    {
      "cell_type": "code",
      "metadata": {
        "id": "3twBTy4coTjx",
        "colab_type": "code",
        "colab": {
          "base_uri": "https://localhost:8080/",
          "height": 34
        },
        "outputId": "24fdbe9d-1f5c-4937-b1f2-7c4b25bf686a"
      },
      "source": [
        "words=[word_tokenize(sent) for sent in sents]\n",
        "print(words)"
      ],
      "execution_count": 13,
      "outputs": [
        {
          "output_type": "stream",
          "text": [
            "[['Hello', 'god', '!'], ['Please', 'Help', 'me', 'to', 'get', 'this', 'Job', 'done', '.'], ['also', 'with', 'good', 'learning', '!'], ['!']]\n"
          ],
          "name": "stdout"
        }
      ]
    },
    {
      "cell_type": "code",
      "metadata": {
        "id": "IxjqRQ4CopZ0",
        "colab_type": "code",
        "colab": {}
      },
      "source": [
        "from nltk.corpus import stopwords \n",
        "from string import punctuation\n",
        "customStopWords=set(stopwords.words('english')+list(punctuation))"
      ],
      "execution_count": 0,
      "outputs": []
    },
    {
      "cell_type": "code",
      "metadata": {
        "id": "ElZbBiRvpgXi",
        "colab_type": "code",
        "colab": {
          "base_uri": "https://localhost:8080/",
          "height": 34
        },
        "outputId": "c20019c8-ee4e-4b58-c5e1-cf996438813f"
      },
      "source": [
        "wordsWOStopwords=[word for word in word_tokenize(text) if word not in customStopWords]\n",
        "print(wordsWOStopwords)"
      ],
      "execution_count": 17,
      "outputs": [
        {
          "output_type": "stream",
          "text": [
            "['Hello', 'god', 'Please', 'Help', 'get', 'Job', 'done', 'also', 'good', 'learning']\n"
          ],
          "name": "stdout"
        }
      ]
    },
    {
      "cell_type": "code",
      "metadata": {
        "id": "O-tXyqxUpoFa",
        "colab_type": "code",
        "colab": {
          "base_uri": "https://localhost:8080/",
          "height": 168
        },
        "outputId": "981e3ad4-41d2-4f3b-a22a-2af3fb62e5f9"
      },
      "source": [
        "from nltk.collocations import *\n",
        "bigram_measures = nltk.collocations.BigramAssocMeasures()\n",
        "finder = BigramCollocationFinder.from_words(wordsWOStopwords)\n",
        "sorted(finder.ngram_fd.items())"
      ],
      "execution_count": 18,
      "outputs": [
        {
          "output_type": "execute_result",
          "data": {
            "text/plain": [
              "[(('Hello', 'god'), 1),\n",
              " (('Help', 'get'), 1),\n",
              " (('Job', 'done'), 1),\n",
              " (('Please', 'Help'), 1),\n",
              " (('also', 'good'), 1),\n",
              " (('done', 'also'), 1),\n",
              " (('get', 'Job'), 1),\n",
              " (('god', 'Please'), 1),\n",
              " (('good', 'learning'), 1)]"
            ]
          },
          "metadata": {
            "tags": []
          },
          "execution_count": 18
        }
      ]
    },
    {
      "cell_type": "code",
      "metadata": {
        "id": "zu0L1zvRprEc",
        "colab_type": "code",
        "colab": {
          "base_uri": "https://localhost:8080/",
          "height": 34
        },
        "outputId": "1355da86-90bc-421d-be1a-1745c02a0c2a"
      },
      "source": [
        "othertext = \"Mary closed on closing night when she was in the mood to close.\"\n",
        "from nltk.stem.lancaster import LancasterStemmer\n",
        "st=LancasterStemmer()\n",
        "stemmedWords=[st.stem(word) for word in word_tokenize(othertext)]\n",
        "print(stemmedWords)"
      ],
      "execution_count": 20,
      "outputs": [
        {
          "output_type": "stream",
          "text": [
            "['mary', 'clos', 'on', 'clos', 'night', 'when', 'she', 'was', 'in', 'the', 'mood', 'to', 'clos', '.']\n"
          ],
          "name": "stdout"
        }
      ]
    },
    {
      "cell_type": "code",
      "metadata": {
        "id": "Ci6c2S7CpzC-",
        "colab_type": "code",
        "colab": {
          "base_uri": "https://localhost:8080/",
          "height": 168
        },
        "outputId": "3fc261d9-ed6b-4384-8b16-019b8b8db998"
      },
      "source": [
        "from nltk.corpus import wordnet as wn\n",
        "for ss in wn.synsets('bass'):\n",
        "    print(ss, ss.definition())"
      ],
      "execution_count": 23,
      "outputs": [
        {
          "output_type": "stream",
          "text": [
            "Synset('bass.n.01') the lowest part of the musical range\n",
            "Synset('bass.n.02') the lowest part in polyphonic music\n",
            "Synset('bass.n.03') an adult male singer with the lowest voice\n",
            "Synset('sea_bass.n.01') the lean flesh of a saltwater fish of the family Serranidae\n",
            "Synset('freshwater_bass.n.01') any of various North American freshwater fish with lean flesh (especially of the genus Micropterus)\n",
            "Synset('bass.n.06') the lowest adult male singing voice\n",
            "Synset('bass.n.07') the member with the lowest range of a family of musical instruments\n",
            "Synset('bass.n.08') nontechnical name for any of numerous edible marine and freshwater spiny-finned fishes\n",
            "Synset('bass.s.01') having or denoting a low vocal or instrumental range\n"
          ],
          "name": "stdout"
        }
      ]
    },
    {
      "cell_type": "code",
      "metadata": {
        "id": "MAzNqMT_p4Kf",
        "colab_type": "code",
        "colab": {
          "base_uri": "https://localhost:8080/",
          "height": 34
        },
        "outputId": "ab508c89-8c83-41a2-8ecc-0fac8b3c81e1"
      },
      "source": [
        "from nltk.wsd import lesk\n",
        "sense1 = lesk(word_tokenize(\"He is singing in a vert lower tone, along with the bass\"),'bass')\n",
        "print(sense1, sense1.definition())"
      ],
      "execution_count": 24,
      "outputs": [
        {
          "output_type": "stream",
          "text": [
            "Synset('bass.n.07') the member with the lowest range of a family of musical instruments\n"
          ],
          "name": "stdout"
        }
      ]
    },
    {
      "cell_type": "code",
      "metadata": {
        "id": "NbDF-ykGqMY5",
        "colab_type": "code",
        "colab": {
          "base_uri": "https://localhost:8080/",
          "height": 34
        },
        "outputId": "8588a8e7-b6fe-449a-d285-445e5a8a8955"
      },
      "source": [
        "sense2 = lesk(word_tokenize(\"This sea bass was really hard to catch\"),'bass')\n",
        "print(sense2, sense2.definition())"
      ],
      "execution_count": 25,
      "outputs": [
        {
          "output_type": "stream",
          "text": [
            "Synset('sea_bass.n.01') the lean flesh of a saltwater fish of the family Serranidae\n"
          ],
          "name": "stdout"
        }
      ]
    },
    {
      "cell_type": "code",
      "metadata": {
        "id": "1ZSsm6O_qQBT",
        "colab_type": "code",
        "colab": {}
      },
      "source": [
        ""
      ],
      "execution_count": 0,
      "outputs": []
    }
  ]
}