{
  "nbformat": 4,
  "nbformat_minor": 0,
  "metadata": {
    "colab": {
      "name": "Text_Auto_ summerization _rulebased.ipynb",
      "provenance": [],
      "collapsed_sections": [],
      "authorship_tag": "ABX9TyPsN6NBOKaWkTGxq979EL5r"
    },
    "kernelspec": {
      "name": "python2",
      "display_name": "Python 2"
    }
  },
  "cells": [
    {
      "cell_type": "code",
      "metadata": {
        "id": "EvpnP2MsGtZZ",
        "colab_type": "code",
        "colab": {}
      },
      "source": [
        "import urllib2\n",
        "from bs4 import BeautifulSoup"
      ],
      "execution_count": 0,
      "outputs": []
    },
    {
      "cell_type": "code",
      "metadata": {
        "id": "VU1raL8KHLQw",
        "colab_type": "code",
        "colab": {}
      },
      "source": [
        "articleURL = \"https://www.washingtonpost.com/news/the-switch/wp/2016/10/18/the-pentagons-massive-new-telescope-is-designed-to-track-space-junk-and-watch-out-for-killer-asteroids/\""
      ],
      "execution_count": 0,
      "outputs": []
    },
    {
      "cell_type": "code",
      "metadata": {
        "id": "rJc9wVW-H9lw",
        "colab_type": "code",
        "colab": {}
      },
      "source": [
        "page = urllib2.urlopen(articleURL).read().decode('utf8','ignore') \n",
        "soup = BeautifulSoup(page,\"lxml\")\n",
        "soup"
      ],
      "execution_count": 0,
      "outputs": []
    },
    {
      "cell_type": "code",
      "metadata": {
        "id": "LjcmVH2VH_pL",
        "colab_type": "code",
        "colab": {
          "base_uri": "https://localhost:8080/",
          "height": 54
        },
        "outputId": "c9777e4d-df27-40a0-d7f4-057b38e593cf"
      },
      "source": [
        "soup.find('article').text"
      ],
      "execution_count": 5,
      "outputs": [
        {
          "output_type": "execute_result",
          "data": {
            "text/plain": [
              "u\"By Christian Davenport\\xa0closeChristian DavenportReporter covering the defense and space industriesEmailEmailBioBioFollowFollowReporterOctober 18, 2016 at 4:01 PM EDTThere are a lot of rocks flying around through space. Lots of debris, too. Old satellites, spent rocket boosters, even for a short while a spatula that got loose during a space shuttle mission in 2006. All of it swirling around in orbit, creating a bit of a traffic jam.For years, the Pentagon has been worried about the collisions that might be caused by an\\xa0estimated 500,000 pieces of debris, taking out enormously valuable satellites and, in turn, creating even more debris. On Tuesday, the Defense Department\\xa0took another significant step toward monitoring all of the cosmic junk swirling around in space, by delivering\\xa0a gigantic new telescope capable of seeing small objects from very far away.Developed by the Defense Advanced Research Project Agency, the Space Surveillance Telescope was formally transferred to the Air Force during a ceremony at White Sands Missile Base in New Mexico Tuesday.ADADThe telescope is designed to monitor objects as small as softballs, in Geosynchonous orbit (GEO)\\u2014some of the most important real estate in space. At about 22,000 miles away, its orbit mirrors that of the Earth, so that satellites parked there remain in a fixed point over the globe. That allows satellite television or communications providers to serve particular areas\\u2014say, North America or Asia\\u2014uninterrupted.But not only is the orbit far away\\u2014it\\u2019s incredibly vast. \\u201cA volume of tens of thousands of oceans,\\u201d said Lindsay Millard, DARPA\\u2019s program manager in a podcast posted on the agency\\u2019s website. But the telescope's ability to see \\u201csomething very far away over a very wide area is really what it\\u2019s best at.\\u201dDARPA says the advanced technology in the massive, 90-ton telescope would\\xa0allow officials to go from \\u201cseeing only a few large objects at a time through the equivalent of a drinking straw to a windshield view with 10,000 objects at a time.\\u201d\\xa0It is also being used by NASA to monitor asteroids and other near-Earth objects that could collide with the planet, officials said.ADADOver the next two years, the telescope is going to be moved and reconstructed in Australia, a vantage point that would allow it to survey an under served area of space.The telescope is \\u201ca big improvement over the legacy ground-based optical telescopes that are used by the U.S. Air Force, because it can search large areas of sky and also track very faint (small) objects in and around GEO,\\u201d Brian Weeden, a Technical Advisor at the Secure World Foundation, wrote in an email. \\u201cThat's a critical capability for the U.S. military, as they have a lot of very important satellites in GEO, and are increasingly worried about threats to those satellites.\\u201dThe telescope would\\xa0join another new space debris tracking technology known as the Space Fence, which is now being built by Bethesda-based Lockheed Martin. The radar system is going to be located on Kwajalein Atoll in the Marshall Islands and would use radar to help the Air Force track 10 times amount of debris than it currently monitors.ADADWith many valuable assets in space\\u2014satellites used for intelligence, communications and guiding weapons\\u2014the Pentagon has become increasingly concerned with what it calls \\u201cspace situational awareness.\\u201d Instead of being a benign environment, the Pentagon likes to say that space has become \\u201ccontested, congested and competitive.\\u201d In orbit, debris moves very fast, as much as 17,500 m.p.h., so that even a fleck of paint could cause damage.In 2007, the Chinese fired a missile that blew up a dead satellite and littered space with thousands of pieces of debris. And the Air Force has been working to make its satellites more resilient. It has plans to send swarms of small satellites into orbit that are more difficult to target.\\u201cEvery military operation that takes place in the world today is critically dependent on space in one way or another,\\u201d Air Force Gen. John Hyten said in an interview earlier this year when he was the commander of the Air Force Space Command. \\u201cWhether our own people in the United States are fully cognizant of the dependence on space or not, the rest of the world has been watching us very closely.\\u201dADADGet our Coronavirus Updates newsletterReceive the most important pandemic developments in your inbox every day. All stories linked in the newsletter are free to access.By signing up you agree to our Terms of Use and Privacy\\xa0PolicyComments are not available on this story.Share your feedback by emailing the author. Have a question about our comment policies? Review our guidelines or contact the commenting team here.\""
            ]
          },
          "metadata": {
            "tags": []
          },
          "execution_count": 5
        }
      ]
    },
    {
      "cell_type": "code",
      "metadata": {
        "id": "JfWmVNFjIENL",
        "colab_type": "code",
        "colab": {}
      },
      "source": [
        "text = ' '.join(map(lambda p: p.text, soup.find_all('article')))\n",
        "text"
      ],
      "execution_count": 0,
      "outputs": []
    },
    {
      "cell_type": "code",
      "metadata": {
        "id": "VozWMkK2IICi",
        "colab_type": "code",
        "colab": {}
      },
      "source": [
        "text.encode('ascii', errors='replace').replace(\"?\",\" \")"
      ],
      "execution_count": 0,
      "outputs": []
    },
    {
      "cell_type": "code",
      "metadata": {
        "id": "ztN8WEhIILw9",
        "colab_type": "code",
        "colab": {}
      },
      "source": [
        "def getTextWaPo(url):\n",
        "    page = urllib2.urlopen(url).read().decode('utf8')\n",
        "    soup = BeautifulSoup(page,\"lxml\")\n",
        "    text = ' '.join(map(lambda p: p.text, soup.find_all('article')))\n",
        "    return text.encode('ascii', errors='replace').replace(\"?\",\" \")"
      ],
      "execution_count": 0,
      "outputs": []
    },
    {
      "cell_type": "code",
      "metadata": {
        "id": "7UYYP_qyIOco",
        "colab_type": "code",
        "colab": {}
      },
      "source": [
        "text = getTextWaPo(articleURL)"
      ],
      "execution_count": 0,
      "outputs": []
    },
    {
      "cell_type": "code",
      "metadata": {
        "id": "cyzeaFrZIRMs",
        "colab_type": "code",
        "colab": {}
      },
      "source": [
        "from nltk.tokenize import sent_tokenize,word_tokenize\n",
        "from nltk.corpus import stopwords\n",
        "from string import punctuation"
      ],
      "execution_count": 0,
      "outputs": []
    },
    {
      "cell_type": "code",
      "metadata": {
        "id": "90nkrNHRIVo4",
        "colab_type": "code",
        "colab": {
          "base_uri": "https://localhost:8080/",
          "height": 423
        },
        "outputId": "3a08a3bb-6eaa-4df4-f3e1-c2912c6e0858"
      },
      "source": [
        "# import nltk\n",
        "# nltk.download('punkt')\n",
        "sents = sent_tokenize(text)\n",
        "sents\n"
      ],
      "execution_count": 14,
      "outputs": [
        {
          "output_type": "execute_result",
          "data": {
            "text/plain": [
              "['By Christian Davenport closeChristian DavenportReporter covering the defense and space industriesEmailEmailBioBioFollowFollowReporterOctober 18, 2016 at 4:01 PM EDTThere are a lot of rocks flying around through space.',\n",
              " 'Lots of debris, too.',\n",
              " 'Old satellites, spent rocket boosters, even for a short while a spatula that got loose during a space shuttle mission in 2006.',\n",
              " 'All of it swirling around in orbit, creating a bit of a traffic jam.For years, the Pentagon has been worried about the collisions that might be caused by an estimated 500,000 pieces of debris, taking out enormously valuable satellites and, in turn, creating even more debris.',\n",
              " 'On Tuesday, the Defense Department took another significant step toward monitoring all of the cosmic junk swirling around in space, by delivering a gigantic new telescope capable of seeing small objects from very far away.Developed by the Defense Advanced Research Project Agency, the Space Surveillance Telescope was formally transferred to the Air Force during a ceremony at White Sands Missile Base in New Mexico Tuesday.ADADThe telescope is designed to monitor objects as small as softballs, in Geosynchonous orbit (GEO) some of the most important real estate in space.',\n",
              " 'At about 22,000 miles away, its orbit mirrors that of the Earth, so that satellites parked there remain in a fixed point over the globe.',\n",
              " 'That allows satellite television or communications providers to serve particular areas say, North America or Asia uninterrupted.But not only is the orbit far away it s incredibly vast.',\n",
              " 'A volume of tens of thousands of oceans,  said Lindsay Millard, DARPA s program manager in a podcast posted on the agency s website.',\n",
              " \"But the telescope's ability to see  something very far away over a very wide area is really what it s best at.\",\n",
              " 'DARPA says the advanced technology in the massive, 90-ton telescope would allow officials to go from  seeing only a few large objects at a time through the equivalent of a drinking straw to a windshield view with 10,000 objects at a time.',\n",
              " 'It is also being used by NASA to monitor asteroids and other near-Earth objects that could collide with the planet, officials said.ADADOver the next two years, the telescope is going to be moved and reconstructed in Australia, a vantage point that would allow it to survey an under served area of space.The telescope is  a big improvement over the legacy ground-based optical telescopes that are used by the U.S. Air Force, because it can search large areas of sky and also track very faint (small) objects in and around GEO,  Brian Weeden, a Technical Advisor at the Secure World Foundation, wrote in an email.',\n",
              " \"That's a critical capability for the U.S. military, as they have a lot of very important satellites in GEO, and are increasingly worried about threats to those satellites.\",\n",
              " 'The telescope would join another new space debris tracking technology known as the Space Fence, which is now being built by Bethesda-based Lockheed Martin.',\n",
              " 'The radar system is going to be located on Kwajalein Atoll in the Marshall Islands and would use radar to help the Air Force track 10 times amount of debris than it currently monitors.ADADWith many valuable assets in space satellites used for intelligence, communications and guiding weapons the Pentagon has become increasingly concerned with what it calls  space situational awareness.',\n",
              " 'Instead of being a benign environment, the Pentagon likes to say that space has become  contested, congested and competitive.',\n",
              " 'In orbit, debris moves very fast, as much as 17,500 m.p.h., so that even a fleck of paint could cause damage.In 2007, the Chinese fired a missile that blew up a dead satellite and littered space with thousands of pieces of debris.',\n",
              " 'And the Air Force has been working to make its satellites more resilient.',\n",
              " 'It has plans to send swarms of small satellites into orbit that are more difficult to target.',\n",
              " 'Every military operation that takes place in the world today is critically dependent on space in one way or another,  Air Force Gen. John Hyten said in an interview earlier this year when he was the commander of the Air Force Space Command.',\n",
              " 'Whether our own people in the United States are fully cognizant of the dependence on space or not, the rest of the world has been watching us very closely.',\n",
              " 'ADADGet our Coronavirus Updates newsletterReceive the most important pandemic developments in your inbox every day.',\n",
              " 'All stories linked in the newsletter are free to access.By signing up you agree to our Terms of Use and Privacy PolicyComments are not available on this story.Share your feedback by emailing the author.',\n",
              " 'Have a question about our comment policies  Review our guidelines or contact the commenting team here.']"
            ]
          },
          "metadata": {
            "tags": []
          },
          "execution_count": 14
        }
      ]
    },
    {
      "cell_type": "code",
      "metadata": {
        "id": "3as14scRIYam",
        "colab_type": "code",
        "colab": {}
      },
      "source": [
        "word_sent = word_tokenize(text.lower())\n",
        "word_sent"
      ],
      "execution_count": 0,
      "outputs": []
    },
    {
      "cell_type": "code",
      "metadata": {
        "id": "mBoH1DOAIrNM",
        "colab_type": "code",
        "colab": {}
      },
      "source": [
        "# nltk.download('stopwords')\n",
        "_stopwords = set(stopwords.words('english') + list(punctuation))\n",
        "_stopwords"
      ],
      "execution_count": 0,
      "outputs": []
    },
    {
      "cell_type": "code",
      "metadata": {
        "id": "QrUk7cS5Ivua",
        "colab_type": "code",
        "colab": {}
      },
      "source": [
        "word_sent=[word for word in word_sent if word not in _stopwords]"
      ],
      "execution_count": 0,
      "outputs": []
    },
    {
      "cell_type": "code",
      "metadata": {
        "id": "2AqfMmuBI6cL",
        "colab_type": "code",
        "colab": {}
      },
      "source": [
        "word_sent"
      ],
      "execution_count": 0,
      "outputs": []
    },
    {
      "cell_type": "code",
      "metadata": {
        "id": "toTCVktkI80U",
        "colab_type": "code",
        "colab": {}
      },
      "source": [
        "from nltk.probability import FreqDist\n",
        "freq = FreqDist(word_sent)\n",
        "freq"
      ],
      "execution_count": 0,
      "outputs": []
    },
    {
      "cell_type": "code",
      "metadata": {
        "id": "ga87IVE-JAdw",
        "colab_type": "code",
        "colab": {}
      },
      "source": [
        "from heapq import nlargest\n"
      ],
      "execution_count": 0,
      "outputs": []
    },
    {
      "cell_type": "code",
      "metadata": {
        "id": "zIm0XCwxJGHz",
        "colab_type": "code",
        "colab": {
          "base_uri": "https://localhost:8080/",
          "height": 185
        },
        "outputId": "bad7895a-e185-4aab-af89-658ba8c64fac"
      },
      "source": [
        "nlargest(10, freq, key=freq.get)"
      ],
      "execution_count": 23,
      "outputs": [
        {
          "output_type": "execute_result",
          "data": {
            "text/plain": [
              "['space',\n",
              " 'satellites',\n",
              " 'telescope',\n",
              " 'debris',\n",
              " 'objects',\n",
              " 'force',\n",
              " 'air',\n",
              " 'orbit',\n",
              " 'around',\n",
              " 'small']"
            ]
          },
          "metadata": {
            "tags": []
          },
          "execution_count": 23
        }
      ]
    },
    {
      "cell_type": "code",
      "metadata": {
        "id": "FxqyuhNuJIW4",
        "colab_type": "code",
        "colab": {
          "base_uri": "https://localhost:8080/",
          "height": 420
        },
        "outputId": "adb95382-e2a5-481f-ae83-03a2cbc723bd"
      },
      "source": [
        "from collections import defaultdict\n",
        "ranking = defaultdict(int)\n",
        "\n",
        "for i,sent in enumerate(sents):\n",
        "    for w in word_tokenize(sent.lower()):\n",
        "        if w in freq:\n",
        "            ranking[i] += freq[w]\n",
        "            \n",
        "ranking"
      ],
      "execution_count": 24,
      "outputs": [
        {
          "output_type": "execute_result",
          "data": {
            "text/plain": [
              "defaultdict(int,\n",
              "            {0: 52,\n",
              "             1: 8,\n",
              "             2: 36,\n",
              "             3: 63,\n",
              "             4: 176,\n",
              "             5: 27,\n",
              "             6: 31,\n",
              "             7: 18,\n",
              "             8: 24,\n",
              "             9: 52,\n",
              "             10: 124,\n",
              "             11: 37,\n",
              "             12: 65,\n",
              "             13: 106,\n",
              "             14: 29,\n",
              "             15: 63,\n",
              "             16: 23,\n",
              "             17: 23,\n",
              "             18: 82,\n",
              "             19: 29,\n",
              "             20: 13,\n",
              "             21: 17,\n",
              "             22: 8})"
            ]
          },
          "metadata": {
            "tags": []
          },
          "execution_count": 24
        }
      ]
    },
    {
      "cell_type": "code",
      "metadata": {
        "id": "bJCYUs74JLHC",
        "colab_type": "code",
        "colab": {
          "base_uri": "https://localhost:8080/",
          "height": 34
        },
        "outputId": "7db60a50-1104-49c2-a8ec-48efd5f0bf4e"
      },
      "source": [
        "sents_idx = nlargest(4, ranking, key=ranking.get)\n",
        "sents_idx"
      ],
      "execution_count": 25,
      "outputs": [
        {
          "output_type": "execute_result",
          "data": {
            "text/plain": [
              "[4, 10, 13, 18]"
            ]
          },
          "metadata": {
            "tags": []
          },
          "execution_count": 25
        }
      ]
    },
    {
      "cell_type": "code",
      "metadata": {
        "id": "kQUzpuKrJQRa",
        "colab_type": "code",
        "colab": {
          "base_uri": "https://localhost:8080/",
          "height": 104
        },
        "outputId": "37a709cb-0308-4a73-9e70-d19cf8c4d7ec"
      },
      "source": [
        "[sents[j] for j in sorted(sents_idx)]"
      ],
      "execution_count": 26,
      "outputs": [
        {
          "output_type": "execute_result",
          "data": {
            "text/plain": [
              "['On Tuesday, the Defense Department took another significant step toward monitoring all of the cosmic junk swirling around in space, by delivering a gigantic new telescope capable of seeing small objects from very far away.Developed by the Defense Advanced Research Project Agency, the Space Surveillance Telescope was formally transferred to the Air Force during a ceremony at White Sands Missile Base in New Mexico Tuesday.ADADThe telescope is designed to monitor objects as small as softballs, in Geosynchonous orbit (GEO) some of the most important real estate in space.',\n",
              " 'It is also being used by NASA to monitor asteroids and other near-Earth objects that could collide with the planet, officials said.ADADOver the next two years, the telescope is going to be moved and reconstructed in Australia, a vantage point that would allow it to survey an under served area of space.The telescope is  a big improvement over the legacy ground-based optical telescopes that are used by the U.S. Air Force, because it can search large areas of sky and also track very faint (small) objects in and around GEO,  Brian Weeden, a Technical Advisor at the Secure World Foundation, wrote in an email.',\n",
              " 'The radar system is going to be located on Kwajalein Atoll in the Marshall Islands and would use radar to help the Air Force track 10 times amount of debris than it currently monitors.ADADWith many valuable assets in space satellites used for intelligence, communications and guiding weapons the Pentagon has become increasingly concerned with what it calls  space situational awareness.',\n",
              " 'Every military operation that takes place in the world today is critically dependent on space in one way or another,  Air Force Gen. John Hyten said in an interview earlier this year when he was the commander of the Air Force Space Command.']"
            ]
          },
          "metadata": {
            "tags": []
          },
          "execution_count": 26
        }
      ]
    },
    {
      "cell_type": "code",
      "metadata": {
        "id": "NoIMELc3JTiS",
        "colab_type": "code",
        "colab": {}
      },
      "source": [
        "def summarize(text, n):\n",
        "    sents = sent_tokenize(text)\n",
        "    \n",
        "    assert n <= len(sents)\n",
        "    word_sent = word_tokenize(text.lower())\n",
        "    _stopwords = set(stopwords.words('english') + list(punctuation))\n",
        "    \n",
        "    word_sent=[word for word in word_sent if word not in _stopwords]\n",
        "    freq = FreqDist(word_sent)\n",
        "    \n",
        "    \n",
        "    ranking = defaultdict(int)\n",
        "    \n",
        "    for i,sent in enumerate(sents):\n",
        "        for w in word_tokenize(sent.lower()):\n",
        "            if w in freq:\n",
        "                ranking[i] += freq[w]\n",
        "             \n",
        "        \n",
        "    sents_idx = nlargest(n, ranking, key=ranking.get)\n",
        "    return [sents[j] for j in sorted(sents_idx)]"
      ],
      "execution_count": 0,
      "outputs": []
    },
    {
      "cell_type": "code",
      "metadata": {
        "id": "rOe2JA0UJYLf",
        "colab_type": "code",
        "colab": {
          "base_uri": "https://localhost:8080/",
          "height": 70
        },
        "outputId": "76a89867-15cb-47cc-b545-78b2fe4699fe"
      },
      "source": [
        "summarize(text,2)"
      ],
      "execution_count": 28,
      "outputs": [
        {
          "output_type": "execute_result",
          "data": {
            "text/plain": [
              "['On Tuesday, the Defense Department took another significant step toward monitoring all of the cosmic junk swirling around in space, by delivering a gigantic new telescope capable of seeing small objects from very far away.Developed by the Defense Advanced Research Project Agency, the Space Surveillance Telescope was formally transferred to the Air Force during a ceremony at White Sands Missile Base in New Mexico Tuesday.ADADThe telescope is designed to monitor objects as small as softballs, in Geosynchonous orbit (GEO) some of the most important real estate in space.',\n",
              " 'It is also being used by NASA to monitor asteroids and other near-Earth objects that could collide with the planet, officials said.ADADOver the next two years, the telescope is going to be moved and reconstructed in Australia, a vantage point that would allow it to survey an under served area of space.The telescope is  a big improvement over the legacy ground-based optical telescopes that are used by the U.S. Air Force, because it can search large areas of sky and also track very faint (small) objects in and around GEO,  Brian Weeden, a Technical Advisor at the Secure World Foundation, wrote in an email.']"
            ]
          },
          "metadata": {
            "tags": []
          },
          "execution_count": 28
        }
      ]
    },
    {
      "cell_type": "code",
      "metadata": {
        "id": "VOhEAEYEJdzS",
        "colab_type": "code",
        "colab": {}
      },
      "source": [
        ""
      ],
      "execution_count": 0,
      "outputs": []
    },
    {
      "cell_type": "markdown",
      "metadata": {
        "id": "k1_947yFJmDj",
        "colab_type": "text"
      },
      "source": [
        "# Now we could able to summerize the text successfully based on the rule based approach, key here is in three way approach:\n",
        "\n",
        "1. Find most important words in the whole text or page or post\n",
        "2. compute significance score for all sentences of words they contain from first stage.\n",
        "3. pick the most significant sentences which yeilds as the Summary.\n",
        "\n"
      ]
    }
  ]
}